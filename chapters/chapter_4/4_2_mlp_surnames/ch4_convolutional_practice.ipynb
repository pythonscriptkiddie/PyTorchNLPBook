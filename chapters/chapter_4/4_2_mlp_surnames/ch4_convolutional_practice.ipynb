{
 "cells": [
  {
   "cell_type": "code",
   "execution_count": 10,
   "metadata": {},
   "outputs": [],
   "source": [
    "import torch\n",
    "import torch.nn as nn"
   ]
  },
  {
   "cell_type": "code",
   "execution_count": 12,
   "metadata": {},
   "outputs": [
    {
     "name": "stdout",
     "output_type": "stream",
     "text": [
      "torch.Size([2, 10, 7])\n",
      "torch.Size([2, 16, 5])\n"
     ]
    }
   ],
   "source": [
    "batch_size = 2\n",
    "one_hot_size = 10\n",
    "sequence_width = 7\n",
    "data = torch.randn(batch_size, one_hot_size, sequence_width)\n",
    "conv1 = nn.Conv1d(in_channels=one_hot_size, out_channels=16,\n",
    "              kernel_size=3)\n",
    "intermediate1 = conv1(data)\n",
    "print(data.size())\n",
    "print(intermediate1.size())"
   ]
  },
  {
   "cell_type": "code",
   "execution_count": 13,
   "metadata": {},
   "outputs": [
    {
     "name": "stdout",
     "output_type": "stream",
     "text": [
      "torch.Size([2, 32, 3])\n",
      "torch.Size([2, 64, 1])\n"
     ]
    }
   ],
   "source": [
    "conv2 = nn.Conv1d(in_channels=16, out_channels=32, kernel_size=3)\n",
    "conv3 = nn.Conv1d(in_channels=32, out_channels=64, kernel_size=3)\n",
    "\n",
    "intermediate2 = conv2(intermediate1)\n",
    "intermediate3 = conv3(intermediate2)\n",
    "print(intermediate2.size())\n",
    "print(intermediate3.size())"
   ]
  },
  {
   "cell_type": "code",
   "execution_count": 15,
   "metadata": {},
   "outputs": [
    {
     "name": "stdout",
     "output_type": "stream",
     "text": [
      "torch.Size([2, 64])\n"
     ]
    }
   ],
   "source": [
    "y_output = intermediate3.squeeze()\n",
    "print(y_output.size())"
   ]
  },
  {
   "cell_type": "code",
   "execution_count": 16,
   "metadata": {},
   "outputs": [
    {
     "name": "stdout",
     "output_type": "stream",
     "text": [
      "torch.Size([2, 80])\n",
      "torch.Size([2, 16])\n"
     ]
    }
   ],
   "source": [
    "#Method 2 of reducing to feature vectors\n",
    "print(intermediate1.view(batch_size, -1).size())\n",
    "\n",
    "#Method 3 of reducing to feature vectors\n",
    "print(torch.mean(intermediate1, dim=2).size())"
   ]
  },
  {
   "cell_type": "code",
   "execution_count": 18,
   "metadata": {},
   "outputs": [
    {
     "name": "stdout",
     "output_type": "stream",
     "text": [
      "torch.return_types.max(\n",
      "values=tensor([[ 0.4113,  0.7949,  0.6061,  0.3649,  0.5908,  0.3598,  0.1408,  0.9458,\n",
      "          0.5799,  1.3069,  0.3534,  0.6757,  0.8016,  0.5148,  0.6740,  0.9078],\n",
      "        [ 0.1407,  0.4206,  0.5310,  0.8557,  0.9967,  0.7508, -0.0126,  0.4067,\n",
      "          0.5961,  0.1139,  0.8036,  0.8868,  1.0405,  0.7523,  1.4963, -0.1082]],\n",
      "       grad_fn=<MaxBackward0>),\n",
      "indices=tensor([[3, 1, 1, 2, 2, 2, 4, 0, 4, 0, 4, 4, 3, 1, 3, 0],\n",
      "        [1, 0, 0, 1, 4, 0, 3, 3, 1, 0, 0, 3, 1, 2, 3, 0]]))\n",
      "torch.Size([2, 16])\n"
     ]
    }
   ],
   "source": [
    "print(torch.max(intermediate1, dim=2))\n",
    "print(torch.sum(intermediate1, dim=2).size())"
   ]
  },
  {
   "cell_type": "code",
   "execution_count": null,
   "metadata": {},
   "outputs": [],
   "source": []
  }
 ],
 "metadata": {
  "kernelspec": {
   "display_name": "Python 3.8.3 64-bit ('edgemont': conda)",
   "language": "python",
   "name": "python38364bitedgemontconda4799fcb3664c4620b48dfdce8b7dd793"
  },
  "language_info": {
   "codemirror_mode": {
    "name": "ipython",
    "version": 3
   },
   "file_extension": ".py",
   "mimetype": "text/x-python",
   "name": "python",
   "nbconvert_exporter": "python",
   "pygments_lexer": "ipython3",
   "version": "3.8.3"
  }
 },
 "nbformat": 4,
 "nbformat_minor": 4
}
